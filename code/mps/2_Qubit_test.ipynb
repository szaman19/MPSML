{
 "cells": [
  {
   "cell_type": "code",
   "execution_count": 5,
   "metadata": {},
   "outputs": [],
   "source": [
    "import torch \n",
    "import torch.nn as nn \n",
    "import torch.nn.functional as f\n",
    "import numpy as np \n",
    "from torch.utils.data import TensorDataset, DataLoader\n",
    "import matplotlib.pyplot as plt "
   ]
  },
  {
   "cell_type": "code",
   "execution_count": 6,
   "metadata": {},
   "outputs": [],
   "source": [
    "data = np.load('2_qubit_crit_data.npz')"
   ]
  },
  {
   "cell_type": "code",
   "execution_count": 7,
   "metadata": {},
   "outputs": [
    {
     "data": {
      "text/plain": [
       "['ground_state', 'fields']"
      ]
     },
     "execution_count": 7,
     "metadata": {},
     "output_type": "execute_result"
    }
   ],
   "source": [
    "data.files"
   ]
  },
  {
   "cell_type": "code",
   "execution_count": 8,
   "metadata": {},
   "outputs": [
    {
     "data": {
      "text/plain": [
       "(10000, 4)"
      ]
     },
     "execution_count": 8,
     "metadata": {},
     "output_type": "execute_result"
    }
   ],
   "source": [
    "data['ground_state'].shape"
   ]
  },
  {
   "cell_type": "code",
   "execution_count": 9,
   "metadata": {},
   "outputs": [],
   "source": [
    "training_data_x = data['ground_state'][:80]\n",
    "training_data_y = data['fields'][:80][:,[0,2,4]]\n",
    "val_data_x = data['ground_state'][80:]\n",
    "val_data_y = data['fields'][80:][:,[0,2,4]]"
   ]
  },
  {
   "cell_type": "code",
   "execution_count": 10,
   "metadata": {},
   "outputs": [
    {
     "name": "stdout",
     "output_type": "stream",
     "text": [
      "(9920, 4)\n",
      "[[1.         0.02592159 0.01      ]\n",
      " [1.         0.02612061 0.01      ]\n",
      " [1.         0.02631963 0.01      ]\n",
      " ...\n",
      " [1.         1.99960196 0.01      ]\n",
      " [1.         1.99980098 0.01      ]\n",
      " [1.         2.         0.01      ]]\n"
     ]
    }
   ],
   "source": [
    "print(val_data_x.shape)\n",
    "print(val_data_y)"
   ]
  },
  {
   "cell_type": "code",
   "execution_count": 11,
   "metadata": {},
   "outputs": [
    {
     "data": {
      "text/plain": [
       "(80, 4)"
      ]
     },
     "execution_count": 11,
     "metadata": {},
     "output_type": "execute_result"
    }
   ],
   "source": [
    "training_data_x.shape"
   ]
  },
  {
   "cell_type": "code",
   "execution_count": 12,
   "metadata": {},
   "outputs": [],
   "source": [
    "training_data = TensorDataset(torch.Tensor(training_data_x), torch.Tensor(training_data_y))\n",
    "validation_data = TensorDataset(torch.Tensor(val_data_x), torch.Tensor(val_data_y))"
   ]
  },
  {
   "cell_type": "code",
   "execution_count": 13,
   "metadata": {},
   "outputs": [],
   "source": [
    "training_loader = DataLoader(training_data, batch_size = 16)\n",
    "val_loader = DataLoader(validation_data, batch_size = 36)"
   ]
  },
  {
   "cell_type": "code",
   "execution_count": 14,
   "metadata": {},
   "outputs": [
    {
     "name": "stdout",
     "output_type": "stream",
     "text": [
      "torch.Size([16, 4])\n",
      "torch.Size([16, 3])\n",
      "torch.Size([16, 4])\n",
      "torch.Size([16, 3])\n",
      "torch.Size([16, 4])\n",
      "torch.Size([16, 3])\n",
      "torch.Size([16, 4])\n",
      "torch.Size([16, 3])\n",
      "torch.Size([16, 4])\n",
      "torch.Size([16, 3])\n"
     ]
    }
   ],
   "source": [
    "for i,(wf, fields,) in enumerate(training_loader):\n",
    "    print(wf.shape)\n",
    "    print(fields.shape)"
   ]
  },
  {
   "cell_type": "code",
   "execution_count": 15,
   "metadata": {},
   "outputs": [],
   "source": [
    "def seq_gen(num_q):\n",
    "    if num_q == 2:\n",
    "        return ['00','01', '10','11']\n",
    "    else:\n",
    "        temp = []\n",
    "        \n",
    "        smaller_vals = seq_gen(num_q-1)\n",
    "        for i in ['0','1']:\n",
    "            for each in smaller_vals:\n",
    "                temp.append(i+each)\n",
    "        return temp "
   ]
  },
  {
   "cell_type": "code",
   "execution_count": 16,
   "metadata": {},
   "outputs": [],
   "source": [
    "class MPS_autoencoder(nn.Module):\n",
    "    def __init__(self):\n",
    "        super(MPS_autoencoder, self).__init__()\n",
    "        \n",
    "        self.encoder = nn.Sequential(nn.Linear(3,16),\n",
    "                                nn.ReLU(),\n",
    "                                nn.Linear(16,8)\n",
    "                               )\n",
    "    def encode(self, x):\n",
    "        encoded = self.encoder(x)\n",
    "        temp = encoded.view(-1, 2,2,2)\n",
    "#         print(temp.shape)\n",
    "        spin_up, spin_down = torch.split(temp, 1, dim = 1)\n",
    "\n",
    "        return spin_up, spin_down\n",
    "    def decode(self, spin_up, spin_down):\n",
    "        # spin_up and spin_down (1,2,2)\n",
    "#         mps = {'0':spin_up, '1':spin_down}\n",
    "        mps = [spin_up, spin_down]        \n",
    "        coeffs = [] \n",
    "        \n",
    "#         states = seq_gen(2)\n",
    "#         for state in states:\n",
    "#             mat = mps[state[0]]\n",
    "            \n",
    "#             for site in state[1:]:\n",
    "#                 mat = torch.matmul(mat, mps[site])\n",
    "#             diagonal = torch.diagonal(mat, dim1=-1,dim2=-2)\n",
    "#             coeffs.append(torch.sum(diagonal, dim = -1, keepdim = True))\n",
    "        \n",
    "            \n",
    "        for i in range(2):\n",
    "            for j in range(2):\n",
    "                mat = torch.matmul(mps[i], mps[j])\n",
    "                diagonal = torch.diagonal(mat , dim1=-1, dim2=-2)\n",
    "                coeffs.append(torch.sum(diagonal, dim = -1, keepdim = True))\n",
    "        \n",
    "        c_i = coeffs[0]\n",
    "        for i in coeffs[1:]:\n",
    "            c_i = torch.cat((c_i, i), dim = 1)\n",
    "        return c_i.squeeze()\n",
    "    \n",
    "    def forward(self, x):\n",
    "        spin_up, spin_down = self.encode(x)\n",
    "        gs = self.decode(spin_up, spin_down)\n",
    "#         print(torch.norm(gs, dim = 1).view(-1,1).shape)\n",
    "        gs = gs / torch.norm(gs, dim = 1).view(-1,1)\n",
    "        return gs"
   ]
  },
  {
   "cell_type": "code",
   "execution_count": 17,
   "metadata": {},
   "outputs": [
    {
     "name": "stdout",
     "output_type": "stream",
     "text": [
      "Epoch 1 : 0.11380127472802996\n",
      "Epoch 11 : 5.98325816099532e-05\n",
      "Epoch 21 : 1.0366542574047343e-05\n",
      "Epoch 31 : 6.1916120102978315e-06\n",
      "Epoch 41 : 3.729656782525126e-06\n",
      "Epoch 51 : 2.413095609199445e-06\n",
      "Epoch 61 : 1.8240137194425187e-06\n",
      "Epoch 71 : 1.6271635260523e-06\n",
      "Epoch 81 : 1.5811931930898026e-06\n",
      "Epoch 91 : 1.574293455064435e-06\n",
      "Epoch 101 : 1.5735553674289803e-06\n",
      "Epoch 111 : 1.5727395151543532e-06\n",
      "Epoch 121 : 1.5713356560809188e-06\n",
      "Epoch 131 : 1.5694105940156077e-06\n",
      "Epoch 141 : 1.5670850984861318e-06\n",
      "Epoch 151 : 1.5643758317196444e-06\n",
      "Epoch 161 : 1.5613520162105487e-06\n",
      "Epoch 171 : 1.5580056270891874e-06\n",
      "Epoch 181 : 1.554354406607672e-06\n",
      "Epoch 191 : 1.5503786855219913e-06\n",
      "Epoch 201 : 1.5461314532672077e-06\n",
      "Epoch 211 : 1.5415692772080546e-06\n",
      "Epoch 221 : 1.5367304570190755e-06\n",
      "Epoch 231 : 1.5316173858082038e-06\n",
      "Epoch 241 : 1.526255982753355e-06\n",
      "Epoch 251 : 1.520599002446943e-06\n",
      "Epoch 261 : 1.5147014892136212e-06\n",
      "Epoch 271 : 1.5085315808960332e-06\n",
      "Epoch 281 : 1.5021360070477386e-06\n",
      "Epoch 291 : 1.4955017590523312e-06\n",
      "Epoch 301 : 1.4886492891719172e-06\n",
      "Epoch 311 : 1.4815581835136981e-06\n",
      "Epoch 321 : 1.4742334045081406e-06\n",
      "Epoch 331 : 1.4667043487293085e-06\n",
      "Epoch 341 : 1.4589802944442453e-06\n",
      "Epoch 351 : 1.4510445609516864e-06\n",
      "Epoch 361 : 1.4429238746060946e-06\n",
      "Epoch 371 : 1.4346176826052215e-06\n",
      "Epoch 381 : 1.4261229011935938e-06\n",
      "Epoch 391 : 1.417478539167405e-06\n",
      "Epoch 401 : 1.408667770874672e-06\n",
      "Epoch 411 : 1.3997037797253143e-06\n",
      "Epoch 421 : 1.3906181692391329e-06\n",
      "Epoch 431 : 1.3813851040822556e-06\n",
      "Epoch 441 : 1.3720319742560605e-06\n",
      "Epoch 451 : 1.3625666753114273e-06\n",
      "Epoch 461 : 1.3530076870438279e-06\n",
      "Epoch 471 : 1.3433752400260345e-06\n",
      "Epoch 481 : 1.3336567434407698e-06\n",
      "Epoch 491 : 1.3238879915888902e-06\n",
      "Epoch 501 : 1.3140618591478414e-06\n",
      "Epoch 511 : 1.3042031724808113e-06\n",
      "Epoch 521 : 1.2943187314817806e-06\n",
      "Epoch 531 : 1.2844316515270293e-06\n",
      "Epoch 541 : 1.2745555153514943e-06\n",
      "Epoch 551 : 1.2647165561929796e-06\n",
      "Epoch 561 : 1.2549133487027576e-06\n",
      "Epoch 571 : 1.2451723449657948e-06\n",
      "Epoch 581 : 1.2355073153003105e-06\n",
      "Epoch 591 : 1.2259195443675707e-06\n",
      "Epoch 601 : 1.2164608662601495e-06\n",
      "Epoch 611 : 1.2071177167172209e-06\n",
      "Epoch 621 : 1.1979312176890745e-06\n",
      "Epoch 631 : 1.1889155501876303e-06\n",
      "Epoch 641 : 1.180077204310237e-06\n",
      "Epoch 651 : 1.171441786596006e-06\n",
      "Epoch 661 : 1.163030380979535e-06\n",
      "Epoch 671 : 1.1548620960866175e-06\n",
      "Epoch 681 : 1.1469359215254827e-06\n",
      "Epoch 691 : 1.1393130947112696e-06\n",
      "Epoch 701 : 1.1319633280493235e-06\n",
      "Epoch 711 : 1.1249176452565735e-06\n",
      "Epoch 721 : 1.1182006879550955e-06\n",
      "Epoch 731 : 1.1118272112753401e-06\n",
      "Epoch 741 : 1.1057941151193518e-06\n",
      "Epoch 751 : 1.1001343338534753e-06\n",
      "Epoch 761 : 1.0948382737296925e-06\n",
      "Epoch 771 : 1.089920451136095e-06\n",
      "Epoch 781 : 1.0853911419417272e-06\n",
      "Epoch 791 : 1.0812594368303508e-06\n",
      "Epoch 801 : 1.077513903169347e-06\n",
      "Epoch 811 : 1.0741664326019419e-06\n",
      "Epoch 821 : 1.0712130681156395e-06\n",
      "Epoch 831 : 1.068655888758485e-06\n",
      "Epoch 841 : 1.0664913702385093e-06\n",
      "Epoch 851 : 1.0647239754746351e-06\n",
      "Epoch 861 : 1.0633611232435668e-06\n",
      "Epoch 871 : 1.062432751552933e-06\n",
      "Epoch 881 : 1.061995586582043e-06\n",
      "Epoch 891 : 1.062181068789414e-06\n",
      "Epoch 901 : 1.0632387187570203e-06\n",
      "Epoch 911 : 1.065578041448134e-06\n",
      "Epoch 921 : 1.0696475939653284e-06\n",
      "Epoch 931 : 1.0756066927797292e-06\n",
      "Epoch 941 : 1.0832276529981754e-06\n",
      "Epoch 951 : 1.0923185811861913e-06\n",
      "Epoch 961 : 1.1027646038996863e-06\n",
      "Epoch 971 : 1.1143914008471257e-06\n",
      "Epoch 981 : 1.127054153471363e-06\n",
      "Epoch 991 : 1.1406136252389843e-06\n",
      "Epoch 1001 : 1.1549998561122266e-06\n"
     ]
    }
   ],
   "source": [
    "device = torch.device(\"cuda\" if torch.cuda.is_available() else \"cpu\")\n",
    "model = MPS_autoencoder()\n",
    "optimizer = torch.optim.Adam(model.parameters(), lr=1e-2)\n",
    "loss_func = nn.MSELoss()\n",
    "for epoch in range(1001):\n",
    "    total = 0\n",
    "    for i,(wf,fields,) in enumerate(training_loader):\n",
    "        gs = model(fields)\n",
    "        \n",
    "        loss = loss_func(gs, wf)\n",
    "        \n",
    "        optimizer.zero_grad()\n",
    "        loss.backward()\n",
    "        optimizer.step()\n",
    "        total += loss.item()\n",
    "    if epoch % 10 == 0:\n",
    "        print(\"Epoch {} :\".format(epoch + 1), total / len(training_loader))"
   ]
  },
  {
   "cell_type": "code",
   "execution_count": 18,
   "metadata": {},
   "outputs": [
    {
     "name": "stdout",
     "output_type": "stream",
     "text": [
      "18.07402462364189\n"
     ]
    }
   ],
   "source": [
    "total = 0\n",
    "with torch.no_grad():\n",
    "    for i,(wf,fields,) in enumerate(val_loader):\n",
    "        gs = model(fields)\n",
    "        loss = loss_func(gs, wf)\n",
    "        total += loss.item()\n",
    "    \n",
    "print(total)"
   ]
  },
  {
   "cell_type": "code",
   "execution_count": 19,
   "metadata": {},
   "outputs": [
    {
     "name": "stdout",
     "output_type": "stream",
     "text": [
      "Fields:\t tensor([1.0000, 0.0259, 0.0100])\n",
      "Wavefunction:\t tensor([0.9999, 0.0065, 0.0065, 0.0084])\n",
      "Reconstructed:\t tensor([0.9999, 0.0070, 0.0070, 0.0043])\n",
      "********************************************************************************\n",
      "Fields:\t tensor([1.0000, 0.0261, 0.0100])\n",
      "Wavefunction:\t tensor([0.9999, 0.0066, 0.0066, 0.0085])\n",
      "Reconstructed:\t tensor([0.9999, 0.0070, 0.0070, 0.0043])\n",
      "********************************************************************************\n",
      "Fields:\t tensor([1.0000, 0.0263, 0.0100])\n",
      "Wavefunction:\t tensor([0.9999, 0.0066, 0.0066, 0.0086])\n",
      "Reconstructed:\t tensor([0.9999, 0.0071, 0.0071, 0.0043])\n",
      "********************************************************************************\n",
      "Fields:\t tensor([1.0000, 0.0265, 0.0100])\n",
      "Wavefunction:\t tensor([0.9999, 0.0067, 0.0067, 0.0087])\n",
      "Reconstructed:\t tensor([0.9999, 0.0071, 0.0071, 0.0043])\n",
      "********************************************************************************\n",
      "Fields:\t tensor([1.0000, 0.0267, 0.0100])\n",
      "Wavefunction:\t tensor([0.9999, 0.0067, 0.0067, 0.0089])\n",
      "Reconstructed:\t tensor([0.9999, 0.0072, 0.0072, 0.0043])\n",
      "********************************************************************************\n",
      "Fields:\t tensor([1.0000, 0.0269, 0.0100])\n",
      "Wavefunction:\t tensor([0.9999, 0.0068, 0.0068, 0.0090])\n",
      "Reconstructed:\t tensor([0.9999, 0.0072, 0.0072, 0.0043])\n",
      "********************************************************************************\n",
      "Fields:\t tensor([1.0000, 0.0271, 0.0100])\n",
      "Wavefunction:\t tensor([0.9999, 0.0068, 0.0068, 0.0091])\n",
      "Reconstructed:\t tensor([0.9999, 0.0073, 0.0073, 0.0043])\n",
      "********************************************************************************\n",
      "Fields:\t tensor([1.0000, 0.0273, 0.0100])\n",
      "Wavefunction:\t tensor([0.9999, 0.0069, 0.0069, 0.0093])\n",
      "Reconstructed:\t tensor([0.9999, 0.0074, 0.0074, 0.0043])\n",
      "********************************************************************************\n",
      "Fields:\t tensor([1.0000, 0.0275, 0.0100])\n",
      "Wavefunction:\t tensor([0.9999, 0.0069, 0.0069, 0.0094])\n",
      "Reconstructed:\t tensor([0.9999, 0.0074, 0.0074, 0.0043])\n",
      "********************************************************************************\n",
      "Fields:\t tensor([1.0000, 0.0277, 0.0100])\n",
      "Wavefunction:\t tensor([0.9999, 0.0070, 0.0070, 0.0095])\n",
      "Reconstructed:\t tensor([0.9999, 0.0075, 0.0075, 0.0043])\n",
      "********************************************************************************\n"
     ]
    }
   ],
   "source": [
    "with torch.no_grad():\n",
    "    for i,(wf, fields,) in enumerate(val_loader):\n",
    "        gs = model(fields)\n",
    "        for j in range(10):\n",
    "            print(\"Fields:\\t\", fields[j])\n",
    "            print(\"Wavefunction:\\t\", wf[j].data) \n",
    "            print(\"Reconstructed:\\t\", gs[j])\n",
    "            print(\"*\"*80)\n",
    "        break"
   ]
  },
  {
   "cell_type": "code",
   "execution_count": null,
   "metadata": {},
   "outputs": [],
   "source": []
  }
 ],
 "metadata": {
  "kernelspec": {
   "display_name": "Python 3 (ipykernel)",
   "language": "python",
   "name": "python3"
  },
  "language_info": {
   "codemirror_mode": {
    "name": "ipython",
    "version": 3
   },
   "file_extension": ".py",
   "mimetype": "text/x-python",
   "name": "python",
   "nbconvert_exporter": "python",
   "pygments_lexer": "ipython3",
   "version": "3.9.2"
  }
 },
 "nbformat": 4,
 "nbformat_minor": 4
}
