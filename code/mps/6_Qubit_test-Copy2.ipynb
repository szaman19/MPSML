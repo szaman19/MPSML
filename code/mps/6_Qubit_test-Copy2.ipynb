{
 "cells": [
  {
   "cell_type": "code",
   "execution_count": 1,
   "metadata": {},
   "outputs": [],
   "source": [
    "import torch \n",
    "import torch.nn as nn \n",
    "import torch.nn.functional as f\n",
    "import math\n",
    "import numpy as np \n",
    "from torch.utils.data import TensorDataset, DataLoader\n",
    "import matplotlib.pyplot as plt "
   ]
  },
  {
   "cell_type": "code",
   "execution_count": 2,
   "metadata": {},
   "outputs": [],
   "source": [
    "data = np.load('6_qubit_crit_data.npz')"
   ]
  },
  {
   "cell_type": "code",
   "execution_count": 3,
   "metadata": {},
   "outputs": [
    {
     "data": {
      "text/plain": [
       "['ground_state', 'fields']"
      ]
     },
     "execution_count": 3,
     "metadata": {},
     "output_type": "execute_result"
    }
   ],
   "source": [
    "data.files"
   ]
  },
  {
   "cell_type": "code",
   "execution_count": 4,
   "metadata": {},
   "outputs": [
    {
     "data": {
      "text/plain": [
       "(10000, 18)"
      ]
     },
     "execution_count": 4,
     "metadata": {},
     "output_type": "execute_result"
    }
   ],
   "source": [
    "data['fields'].shape"
   ]
  },
  {
   "cell_type": "code",
   "execution_count": 5,
   "metadata": {},
   "outputs": [],
   "source": [
    "training_data_x = data['ground_state'][:800]\n",
    "training_data_y = data['fields'][:800][:,[0,6,12]]\n",
    "val_data_x = data['ground_state'][800:]\n",
    "val_data_y = data['fields'][800:][:,[0,6,12]]"
   ]
  },
  {
   "cell_type": "code",
   "execution_count": 6,
   "metadata": {},
   "outputs": [],
   "source": [
    "training_data = TensorDataset(torch.Tensor(training_data_x), torch.Tensor(training_data_y))\n",
    "validation_data = TensorDataset(torch.Tensor(val_data_x), torch.Tensor(val_data_y))"
   ]
  },
  {
   "cell_type": "code",
   "execution_count": 7,
   "metadata": {},
   "outputs": [],
   "source": [
    "training_loader = DataLoader(training_data, batch_size = 16)\n",
    "val_loader = DataLoader(validation_data, batch_size = 36)"
   ]
  },
  {
   "cell_type": "code",
   "execution_count": 8,
   "metadata": {},
   "outputs": [],
   "source": [
    "def seq_gen(num_q):\n",
    "    if num_q == 2:\n",
    "        return ['00','01', '10','11']\n",
    "    else:\n",
    "        temp = []\n",
    "        \n",
    "        smaller_vals = seq_gen(num_q-1)\n",
    "        for i in ['0','1']:\n",
    "            for each in smaller_vals:\n",
    "                temp.append(i+each)\n",
    "        return temp   "
   ]
  },
  {
   "cell_type": "code",
   "execution_count": 9,
   "metadata": {},
   "outputs": [],
   "source": [
    "class MPS_autoencoder(nn.Module):\n",
    "    def __init__(self, num_qubits, mps_size):\n",
    "        super(MPS_autoencoder, self).__init__()\n",
    "        \n",
    "        self.num_qubits = num_qubits\n",
    "        \n",
    "        self.mps_size = mps_size\n",
    "        self.encoder = nn.Sequential(nn.Linear(3,4),\n",
    "                                nn.ReLU(),\n",
    "                                nn.Linear(4,2 * (mps_size ** 2))\n",
    "                               )\n",
    "    def encode(self, x):\n",
    "        encoded = self.encoder(x)\n",
    "        temp = encoded.view(-1, 2,self.mps_size,self.mps_size)\n",
    "        spin_up, spin_down = torch.split(temp, 1, dim = 1)\n",
    "        return spin_up, spin_down\n",
    "    \n",
    "    def decode(self, spin_up, spin_down):\n",
    "        # spin_up and spin_down (1,mps.size,mps.size)\n",
    "        mps = {'0':spin_up, '1':spin_down}\n",
    "                \n",
    "        coeffs = [] \n",
    "        \n",
    "        states = seq_gen(self.num_qubits)\n",
    "        for state in states:\n",
    "            mat = mps[state[0]]\n",
    "            \n",
    "            for site in state[1:]:\n",
    "                mat = torch.matmul(mat, mps[site])\n",
    "            diagonal = torch.diagonal(mat, dim1=-1,dim2=-2)\n",
    "            coeffs.append(torch.sum(diagonal, dim = -1, keepdim = True))\n",
    "                \n",
    "        \n",
    "        c_i = coeffs[0]\n",
    "        for i in coeffs[1:]:\n",
    "            c_i = torch.cat((c_i, i), dim = 1)\n",
    "        return c_i.squeeze()\n",
    "    \n",
    "    def forward(self, x):\n",
    "        spin_up, spin_down = self.encode(x)\n",
    "        gs = self.decode(spin_up, spin_down)\n",
    "        gs = gs / torch.norm(gs, dim = 1).view(-1,1)\n",
    "        return gs"
   ]
  },
  {
   "cell_type": "code",
   "execution_count": 10,
   "metadata": {},
   "outputs": [],
   "source": [
    "def tune_mps(mps_size):\n",
    "    device = torch.device(\"cuda\" if torch.cuda.is_available() else \"cpu\")\n",
    "    model = MPS_autoencoder(num_qubits = 6, mps_size = mps_size).to(device)\n",
    "    optimizer = torch.optim.Adam(model.parameters(), lr=1e-2)\n",
    "    loss_func = nn.MSELoss(reduction='sum')\n",
    "    for epoch in range(100):\n",
    "        total = 0\n",
    "        for i,(wf,fields,) in enumerate(training_loader):\n",
    "            fields = fields.to(device)\n",
    "            gs = model(fields)\n",
    "            loss = loss_func(gs, wf.to(device))\n",
    "            optimizer.zero_grad()\n",
    "            loss.backward()\n",
    "            optimizer.step()\n",
    "            total += loss.item()\n",
    "        if (epoch % 50 == 0):\n",
    "            print(\"Epoch {} :\".format(epoch + 1), total / len(training_loader))\n",
    "    total = 0\n",
    "    with torch.no_grad():\n",
    "        for i,(wf,fields,) in enumerate(val_loader):\n",
    "            gs = model(fields)\n",
    "            loss = loss_func(gs, wf)\n",
    "            total += loss.item()\n",
    "    return total"
   ]
  },
  {
   "cell_type": "code",
   "execution_count": 11,
   "metadata": {},
   "outputs": [
    {
     "ename": "ModuleNotFoundError",
     "evalue": "No module named 'ray'",
     "output_type": "error",
     "traceback": [
      "\u001b[0;31m---------------------------------------------------------------------------\u001b[0m",
      "\u001b[0;31mModuleNotFoundError\u001b[0m                       Traceback (most recent call last)",
      "\u001b[0;32m<ipython-input-11-6441e186672e>\u001b[0m in \u001b[0;36m<module>\u001b[0;34m\u001b[0m\n\u001b[0;32m----> 1\u001b[0;31m \u001b[0;32mimport\u001b[0m \u001b[0mray\u001b[0m\u001b[0;34m\u001b[0m\u001b[0;34m\u001b[0m\u001b[0m\n\u001b[0m\u001b[1;32m      2\u001b[0m \u001b[0;32mfrom\u001b[0m \u001b[0mray\u001b[0m \u001b[0;32mimport\u001b[0m \u001b[0mtune\u001b[0m\u001b[0;34m\u001b[0m\u001b[0;34m\u001b[0m\u001b[0m\n\u001b[1;32m      3\u001b[0m \u001b[0;32mfrom\u001b[0m \u001b[0mray\u001b[0m\u001b[0;34m.\u001b[0m\u001b[0mtune\u001b[0m\u001b[0;34m.\u001b[0m\u001b[0mschedulers\u001b[0m \u001b[0;32mimport\u001b[0m \u001b[0mASHAScheduler\u001b[0m\u001b[0;34m\u001b[0m\u001b[0;34m\u001b[0m\u001b[0m\n\u001b[1;32m      4\u001b[0m search_space = {\n\u001b[1;32m      5\u001b[0m     \u001b[0;31m#\"l1\": tune.choice([4,8,16,32,64,128,256,512]),\u001b[0m\u001b[0;34m\u001b[0m\u001b[0;34m\u001b[0m\u001b[0;34m\u001b[0m\u001b[0m\n",
      "\u001b[0;31mModuleNotFoundError\u001b[0m: No module named 'ray'"
     ]
    }
   ],
   "source": [
    "import ray\n",
    "from ray import tune\n",
    "from ray.tune.schedulers import ASHAScheduler\n",
    "search_space = {\n",
    "    #\"l1\": tune.choice([4,8,16,32,64,128,256,512]),\n",
    "    #\"l2\": tune.choice([4,8,16,32,64,128,256,512]),\n",
    "    #\"lr\": tune.loguniform(1e-4, 1e-1),\n",
    "    #\"batch_size\": tune.choice([100, 500, 1000]),\n",
    "    #\"mps_size\": tune.choice([6])\n",
    "}\n",
    "\n",
    "analysis = tune.run(\n",
    "    tune_mps(6),\n",
    "    #resources_per_trial={'gpu': 1},\n",
    "    num_samples=30,\n",
    "    scheduler=ASHAScheduler(metric=\"mean_accuracy\", mode=\"max\", grace_period=1),\n",
    "    config = search_space)\n",
    "\n",
    "mps_size_val_score = []\n",
    "\n",
    "for i in range(2, 7):\n",
    "    mps_size_val_score.append(tune_mps(i))\n"
   ]
  },
  {
   "cell_type": "code",
   "execution_count": null,
   "metadata": {},
   "outputs": [],
   "source": [
    "x = list(range(2,7))\n",
    "y = mps_size_val_score\n",
    "\n",
    "plt.plot(x,y)\n",
    "plt.xlabel(\"Matrix Size\")\n",
    "plt.ylabel('Validation Score')"
   ]
  },
  {
   "cell_type": "code",
   "execution_count": null,
   "metadata": {},
   "outputs": [],
   "source": []
  }
 ],
 "metadata": {
  "kernelspec": {
   "display_name": "Python 3 (ipykernel)",
   "language": "python",
   "name": "python3"
  },
  "language_info": {
   "codemirror_mode": {
    "name": "ipython",
    "version": 3
   },
   "file_extension": ".py",
   "mimetype": "text/x-python",
   "name": "python",
   "nbconvert_exporter": "python",
   "pygments_lexer": "ipython3",
   "version": "3.9.2"
  }
 },
 "nbformat": 4,
 "nbformat_minor": 4
}
