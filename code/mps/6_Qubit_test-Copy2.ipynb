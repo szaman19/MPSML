{
 "cells": [
  {
   "cell_type": "code",
   "execution_count": 1,
   "metadata": {},
   "outputs": [],
   "source": [
    "import torch \n",
    "import torch.nn as nn \n",
    "import torch.nn.functional as f\n",
    "import math\n",
    "import numpy as np \n",
    "from torch.utils.data import TensorDataset, DataLoader\n",
    "import matplotlib.pyplot as plt "
   ]
  },
  {
   "cell_type": "code",
   "execution_count": 2,
   "metadata": {},
   "outputs": [],
   "source": [
    "data = np.load('6_qubit_crit_data.npz')"
   ]
  },
  {
   "cell_type": "code",
   "execution_count": 3,
   "metadata": {},
   "outputs": [
    {
     "data": {
      "text/plain": [
       "['ground_state', 'fields']"
      ]
     },
     "execution_count": 3,
     "metadata": {},
     "output_type": "execute_result"
    }
   ],
   "source": [
    "data.files"
   ]
  },
  {
   "cell_type": "code",
   "execution_count": 4,
   "metadata": {},
   "outputs": [
    {
     "data": {
      "text/plain": [
       "(2500, 18)"
      ]
     },
     "execution_count": 4,
     "metadata": {},
     "output_type": "execute_result"
    }
   ],
   "source": [
    "data['fields'].shape"
   ]
  },
  {
   "cell_type": "code",
   "execution_count": 5,
   "metadata": {},
   "outputs": [],
   "source": [
    "training_data_x = data['ground_state'][:800]\n",
    "training_data_y = data['fields'][:800][:,[0,6,12]]\n",
    "val_data_x = data['ground_state'][800:]\n",
    "val_data_y = data['fields'][800:][:,[0,6,12]]"
   ]
  },
  {
   "cell_type": "code",
   "execution_count": 6,
   "metadata": {},
   "outputs": [],
   "source": [
    "training_data = TensorDataset(torch.Tensor(training_data_x), torch.Tensor(training_data_y))\n",
    "validation_data = TensorDataset(torch.Tensor(val_data_x), torch.Tensor(val_data_y))"
   ]
  },
  {
   "cell_type": "code",
   "execution_count": 7,
   "metadata": {},
   "outputs": [],
   "source": [
    "training_loader = DataLoader(training_data, batch_size = 16)\n",
    "val_loader = DataLoader(validation_data, batch_size = 36)"
   ]
  },
  {
   "cell_type": "code",
   "execution_count": 8,
   "metadata": {},
   "outputs": [],
   "source": [
    "def seq_gen(num_q):\n",
    "    if num_q == 2:\n",
    "        return ['00','01', '10','11']\n",
    "    else:\n",
    "        temp = []\n",
    "        \n",
    "        smaller_vals = seq_gen(num_q-1)\n",
    "        for i in ['0','1']:\n",
    "            for each in smaller_vals:\n",
    "                temp.append(i+each)\n",
    "        return temp   "
   ]
  },
  {
   "cell_type": "code",
   "execution_count": 9,
   "metadata": {},
   "outputs": [],
   "source": [
    "class MPS_autoencoder(nn.Module):\n",
    "    def __init__(self, num_qubits, mps_size):\n",
    "        super(MPS_autoencoder, self).__init__()\n",
    "        \n",
    "        self.num_qubits = num_qubits\n",
    "        \n",
    "        self.mps_size = mps_size\n",
    "        self.encoder = nn.Sequential(nn.Linear(3,4),\n",
    "                                nn.ReLU(),\n",
    "                                nn.Linear(4,2 * (mps_size ** 2))\n",
    "                               )\n",
    "    def encode(self, x):\n",
    "        encoded = self.encoder(x)\n",
    "        temp = encoded.view(-1, 2,self.mps_size,self.mps_size)\n",
    "        spin_up, spin_down = torch.split(temp, 1, dim = 1)\n",
    "        return spin_up, spin_down\n",
    "    \n",
    "    def decode(self, spin_up, spin_down):\n",
    "        # spin_up and spin_down (1,mps.size,mps.size)\n",
    "        mps = {'0':spin_up, '1':spin_down}\n",
    "                \n",
    "        coeffs = [] \n",
    "        \n",
    "        states = seq_gen(self.num_qubits)\n",
    "        for state in states:\n",
    "            mat = mps[state[0]]\n",
    "            \n",
    "            for site in state[1:]:\n",
    "                mat = torch.matmul(mat, mps[site])\n",
    "            diagonal = torch.diagonal(mat, dim1=-1,dim2=-2)\n",
    "            coeffs.append(torch.sum(diagonal, dim = -1, keepdim = True))\n",
    "                \n",
    "        \n",
    "        c_i = coeffs[0]\n",
    "        for i in coeffs[1:]:\n",
    "            c_i = torch.cat((c_i, i), dim = 1)\n",
    "        return c_i.squeeze()\n",
    "    \n",
    "    def forward(self, x):\n",
    "        spin_up, spin_down = self.encode(x)\n",
    "        gs = self.decode(spin_up, spin_down)\n",
    "        gs = gs / torch.norm(gs, dim = 1).view(-1,1)\n",
    "        return gs"
   ]
  },
  {
   "cell_type": "code",
   "execution_count": 10,
   "metadata": {},
   "outputs": [],
   "source": [
    "def tune_mps(mps_size):\n",
    "    device = torch.device(\"cuda\" if torch.cuda.is_available() else \"cpu\")\n",
    "    model = MPS_autoencoder(num_qubits = 6, mps_size = mps_size).to(device)\n",
    "    optimizer = torch.optim.Adam(model.parameters(), lr=1e-2)\n",
    "    loss_func = nn.MSELoss(reduction='sum')\n",
    "    for epoch in range(100):\n",
    "        total = 0\n",
    "        for i,(wf,fields,) in enumerate(training_loader):\n",
    "            fields = fields.to(device)\n",
    "            gs = model(fields)\n",
    "            loss = loss_func(gs, wf.to(device))\n",
    "            optimizer.zero_grad()\n",
    "            loss.backward()\n",
    "            optimizer.step()\n",
    "            total += loss.item()\n",
    "        if (epoch % 50 == 0):\n",
    "            print(\"Epoch {} :\".format(epoch + 1), total / len(training_loader))\n",
    "    total = 0\n",
    "    with torch.no_grad():\n",
    "        for i,(wf,fields,) in enumerate(val_loader):\n",
    "            gs = model(fields)\n",
    "            loss = loss_func(gs, wf)\n",
    "            total += loss.item()\n",
    "    return total"
   ]
  },
  {
   "cell_type": "code",
   "execution_count": 13,
   "metadata": {},
   "outputs": [
    {
     "name": "stdout",
     "output_type": "stream",
     "text": [
      "Defaulting to user installation because normal site-packages is not writeable\n",
      "Requirement already satisfied: ray[tune] in /jet/home/jszacha1/.local/lib/python3.8/site-packages (1.10.0)\n",
      "Requirement already satisfied: numpy>=1.16; python_version < \"3.9\" in /jet/packages/anaconda3/lib/python3.8/site-packages (from ray[tune]) (1.19.2)\n",
      "Requirement already satisfied: grpcio>=1.28.1 in /jet/home/jszacha1/.local/lib/python3.8/site-packages (from ray[tune]) (1.43.0)\n",
      "Requirement already satisfied: attrs in /jet/packages/anaconda3/lib/python3.8/site-packages (from ray[tune]) (20.3.0)\n",
      "Requirement already satisfied: redis>=3.5.0 in /jet/home/jszacha1/.local/lib/python3.8/site-packages (from ray[tune]) (4.1.4)\n",
      "Requirement already satisfied: protobuf>=3.15.3 in /jet/home/jszacha1/.local/lib/python3.8/site-packages (from ray[tune]) (3.19.4)\n",
      "Requirement already satisfied: msgpack<2.0.0,>=1.0.0 in /jet/packages/anaconda3/lib/python3.8/site-packages (from ray[tune]) (1.0.0)\n",
      "Requirement already satisfied: filelock in /jet/packages/anaconda3/lib/python3.8/site-packages (from ray[tune]) (3.0.12)\n",
      "Requirement already satisfied: jsonschema in /jet/packages/anaconda3/lib/python3.8/site-packages (from ray[tune]) (3.2.0)\n",
      "Requirement already satisfied: pyyaml in /jet/packages/anaconda3/lib/python3.8/site-packages (from ray[tune]) (5.3.1)\n",
      "Requirement already satisfied: click>=7.0 in /jet/packages/anaconda3/lib/python3.8/site-packages (from ray[tune]) (7.1.2)\n",
      "Requirement already satisfied: requests; extra == \"tune\" in /jet/packages/anaconda3/lib/python3.8/site-packages (from ray[tune]) (2.24.0)\n",
      "Collecting tabulate; extra == \"tune\"\n",
      "  Downloading tabulate-0.8.9-py3-none-any.whl (25 kB)\n",
      "Requirement already satisfied: pandas; extra == \"tune\" in /jet/packages/anaconda3/lib/python3.8/site-packages (from ray[tune]) (1.1.3)\n",
      "Collecting tensorboardX>=1.9; extra == \"tune\"\n",
      "  Downloading tensorboardX-2.5-py2.py3-none-any.whl (125 kB)\n",
      "\u001b[K     |████████████████████████████████| 125 kB 12.3 MB/s eta 0:00:01\n",
      "\u001b[?25hRequirement already satisfied: six>=1.5.2 in /jet/packages/anaconda3/lib/python3.8/site-packages (from grpcio>=1.28.1->ray[tune]) (1.15.0)\n",
      "Requirement already satisfied: packaging>=20.4 in /jet/packages/anaconda3/lib/python3.8/site-packages (from redis>=3.5.0->ray[tune]) (20.4)\n",
      "Requirement already satisfied: deprecated>=1.2.3 in /jet/home/jszacha1/.local/lib/python3.8/site-packages (from redis>=3.5.0->ray[tune]) (1.2.13)\n",
      "Requirement already satisfied: pyrsistent>=0.14.0 in /jet/packages/anaconda3/lib/python3.8/site-packages (from jsonschema->ray[tune]) (0.17.3)\n",
      "Requirement already satisfied: setuptools in /jet/packages/anaconda3/lib/python3.8/site-packages (from jsonschema->ray[tune]) (50.3.1.post20201107)\n",
      "Requirement already satisfied: chardet<4,>=3.0.2 in /jet/packages/anaconda3/lib/python3.8/site-packages (from requests; extra == \"tune\"->ray[tune]) (3.0.4)\n",
      "Requirement already satisfied: certifi>=2017.4.17 in /jet/packages/anaconda3/lib/python3.8/site-packages (from requests; extra == \"tune\"->ray[tune]) (2020.6.20)\n",
      "Requirement already satisfied: idna<3,>=2.5 in /jet/packages/anaconda3/lib/python3.8/site-packages (from requests; extra == \"tune\"->ray[tune]) (2.10)\n",
      "Requirement already satisfied: urllib3!=1.25.0,!=1.25.1,<1.26,>=1.21.1 in /jet/packages/anaconda3/lib/python3.8/site-packages (from requests; extra == \"tune\"->ray[tune]) (1.25.11)\n",
      "Requirement already satisfied: pytz>=2017.2 in /jet/packages/anaconda3/lib/python3.8/site-packages (from pandas; extra == \"tune\"->ray[tune]) (2020.1)\n",
      "Requirement already satisfied: python-dateutil>=2.7.3 in /jet/packages/anaconda3/lib/python3.8/site-packages (from pandas; extra == \"tune\"->ray[tune]) (2.8.1)\n",
      "Requirement already satisfied: pyparsing>=2.0.2 in /jet/packages/anaconda3/lib/python3.8/site-packages (from packaging>=20.4->redis>=3.5.0->ray[tune]) (2.4.7)\n",
      "Requirement already satisfied: wrapt<2,>=1.10 in /jet/packages/anaconda3/lib/python3.8/site-packages (from deprecated>=1.2.3->redis>=3.5.0->ray[tune]) (1.11.2)\n",
      "Installing collected packages: tabulate, tensorboardX\n",
      "Successfully installed tabulate-0.8.9 tensorboardX-2.5\n",
      "Epoch 1 : 3.7007982332538814\n",
      "Epoch 51 : 0.009205288880475565\n"
     ]
    },
    {
     "ename": "TuneError",
     "evalue": "Improper 'run' - not string nor trainable.",
     "output_type": "error",
     "traceback": [
      "\u001b[0;31m---------------------------------------------------------------------------\u001b[0m",
      "\u001b[0;31mTuneError\u001b[0m                                 Traceback (most recent call last)",
      "\u001b[0;32m<ipython-input-13-f62775abc36e>\u001b[0m in \u001b[0;36m<module>\u001b[0;34m\u001b[0m\n\u001b[1;32m     11\u001b[0m }\n\u001b[1;32m     12\u001b[0m \u001b[0;34m\u001b[0m\u001b[0m\n\u001b[0;32m---> 13\u001b[0;31m analysis = tune.run(\n\u001b[0m\u001b[1;32m     14\u001b[0m     \u001b[0mtune_mps\u001b[0m\u001b[0;34m(\u001b[0m\u001b[0;36m6\u001b[0m\u001b[0;34m)\u001b[0m\u001b[0;34m,\u001b[0m\u001b[0;34m\u001b[0m\u001b[0;34m\u001b[0m\u001b[0m\n\u001b[1;32m     15\u001b[0m     \u001b[0;31m#resources_per_trial={'gpu': 1},\u001b[0m\u001b[0;34m\u001b[0m\u001b[0;34m\u001b[0m\u001b[0;34m\u001b[0m\u001b[0m\n",
      "\u001b[0;32m~/.local/lib/python3.8/site-packages/ray/tune/tune.py\u001b[0m in \u001b[0;36mrun\u001b[0;34m(run_or_experiment, name, metric, mode, stop, time_budget_s, config, resources_per_trial, num_samples, local_dir, search_alg, scheduler, keep_checkpoints_num, checkpoint_score_attr, checkpoint_freq, checkpoint_at_end, verbose, progress_reporter, log_to_file, trial_name_creator, trial_dirname_creator, sync_config, export_formats, max_failures, fail_fast, restore, server_port, resume, reuse_actors, trial_executor, raise_on_failed_trial, callbacks, max_concurrent_trials, queue_trials, loggers, _remote)\u001b[0m\n\u001b[1;32m    432\u001b[0m     \u001b[0;32mfor\u001b[0m \u001b[0mi\u001b[0m\u001b[0;34m,\u001b[0m \u001b[0mexp\u001b[0m \u001b[0;32min\u001b[0m \u001b[0menumerate\u001b[0m\u001b[0;34m(\u001b[0m\u001b[0mexperiments\u001b[0m\u001b[0;34m)\u001b[0m\u001b[0;34m:\u001b[0m\u001b[0;34m\u001b[0m\u001b[0;34m\u001b[0m\u001b[0m\n\u001b[1;32m    433\u001b[0m         \u001b[0;32mif\u001b[0m \u001b[0;32mnot\u001b[0m \u001b[0misinstance\u001b[0m\u001b[0;34m(\u001b[0m\u001b[0mexp\u001b[0m\u001b[0;34m,\u001b[0m \u001b[0mExperiment\u001b[0m\u001b[0;34m)\u001b[0m\u001b[0;34m:\u001b[0m\u001b[0;34m\u001b[0m\u001b[0;34m\u001b[0m\u001b[0m\n\u001b[0;32m--> 434\u001b[0;31m             experiments[i] = Experiment(\n\u001b[0m\u001b[1;32m    435\u001b[0m                 \u001b[0mname\u001b[0m\u001b[0;34m=\u001b[0m\u001b[0mname\u001b[0m\u001b[0;34m,\u001b[0m\u001b[0;34m\u001b[0m\u001b[0;34m\u001b[0m\u001b[0m\n\u001b[1;32m    436\u001b[0m                 \u001b[0mrun\u001b[0m\u001b[0;34m=\u001b[0m\u001b[0mexp\u001b[0m\u001b[0;34m,\u001b[0m\u001b[0;34m\u001b[0m\u001b[0;34m\u001b[0m\u001b[0m\n",
      "\u001b[0;32m~/.local/lib/python3.8/site-packages/ray/tune/experiment.py\u001b[0m in \u001b[0;36m__init__\u001b[0;34m(self, name, run, stop, time_budget_s, config, resources_per_trial, num_samples, local_dir, sync_config, trial_name_creator, trial_dirname_creator, log_to_file, checkpoint_freq, checkpoint_at_end, keep_checkpoints_num, checkpoint_score_attr, export_formats, max_failures, restore)\u001b[0m\n\u001b[1;32m    111\u001b[0m                     \u001b[0;34m\"checkpointable function. You can specify checkpoints \"\u001b[0m\u001b[0;34m\u001b[0m\u001b[0;34m\u001b[0m\u001b[0m\n\u001b[1;32m    112\u001b[0m                     \"within your trainable function.\")\n\u001b[0;32m--> 113\u001b[0;31m         \u001b[0mself\u001b[0m\u001b[0;34m.\u001b[0m\u001b[0m_run_identifier\u001b[0m \u001b[0;34m=\u001b[0m \u001b[0mExperiment\u001b[0m\u001b[0;34m.\u001b[0m\u001b[0mregister_if_needed\u001b[0m\u001b[0;34m(\u001b[0m\u001b[0mrun\u001b[0m\u001b[0;34m)\u001b[0m\u001b[0;34m\u001b[0m\u001b[0;34m\u001b[0m\u001b[0m\n\u001b[0m\u001b[1;32m    114\u001b[0m         \u001b[0mself\u001b[0m\u001b[0;34m.\u001b[0m\u001b[0mname\u001b[0m \u001b[0;34m=\u001b[0m \u001b[0mname\u001b[0m \u001b[0;32mor\u001b[0m \u001b[0mself\u001b[0m\u001b[0;34m.\u001b[0m\u001b[0m_run_identifier\u001b[0m\u001b[0;34m\u001b[0m\u001b[0;34m\u001b[0m\u001b[0m\n\u001b[1;32m    115\u001b[0m \u001b[0;34m\u001b[0m\u001b[0m\n",
      "\u001b[0;32m~/.local/lib/python3.8/site-packages/ray/tune/experiment.py\u001b[0m in \u001b[0;36mregister_if_needed\u001b[0;34m(cls, run_object)\u001b[0m\n\u001b[1;32m    266\u001b[0m             \u001b[0;32mreturn\u001b[0m \u001b[0mname\u001b[0m\u001b[0;34m\u001b[0m\u001b[0;34m\u001b[0m\u001b[0m\n\u001b[1;32m    267\u001b[0m         \u001b[0;32melse\u001b[0m\u001b[0;34m:\u001b[0m\u001b[0;34m\u001b[0m\u001b[0;34m\u001b[0m\u001b[0m\n\u001b[0;32m--> 268\u001b[0;31m             \u001b[0;32mraise\u001b[0m \u001b[0mTuneError\u001b[0m\u001b[0;34m(\u001b[0m\u001b[0;34m\"Improper 'run' - not string nor trainable.\"\u001b[0m\u001b[0;34m)\u001b[0m\u001b[0;34m\u001b[0m\u001b[0;34m\u001b[0m\u001b[0m\n\u001b[0m\u001b[1;32m    269\u001b[0m \u001b[0;34m\u001b[0m\u001b[0m\n\u001b[1;32m    270\u001b[0m     \u001b[0;34m@\u001b[0m\u001b[0mproperty\u001b[0m\u001b[0;34m\u001b[0m\u001b[0;34m\u001b[0m\u001b[0m\n",
      "\u001b[0;31mTuneError\u001b[0m: Improper 'run' - not string nor trainable."
     ]
    }
   ],
   "source": [
    "!python -m pip install ray[tune]\n",
    "import ray\n",
    "from ray import tune\n",
    "from ray.tune.schedulers import ASHAScheduler\n",
    "search_space = {\n",
    "    \"l1\": tune.choice([4,8,16,32,64,128,256,512]),\n",
    "    \"l2\": tune.choice([4,8,16,32,64,128,256,512]),\n",
    "    \"lr\": tune.loguniform(1e-4, 1e-1),\n",
    "    \"batch_size\": tune.choice([100, 500, 1000]),\n",
    "    \"mps_size\": tune.choice([6])\n",
    "}\n",
    "\n",
    "analysis = tune.run(\n",
    "    tune_mps(6),\n",
    "    #resources_per_trial={'gpu': 1},\n",
    "    num_samples=30,\n",
    "    scheduler=ASHAScheduler(metric=\"mean_accuracy\", mode=\"max\", grace_period=1),\n",
    "    config = search_space)\n",
    "\n",
    "mps_size_val_score = []\n",
    "\n",
    "for i in range(2, 7):\n",
    "    mps_size_val_score.append(tune_mps(i))\n"
   ]
  },
  {
   "cell_type": "code",
   "execution_count": null,
   "metadata": {},
   "outputs": [],
   "source": [
    "x = list(range(2,7))\n",
    "y = mps_size_val_score\n",
    "\n",
    "plt.plot(x,y)\n",
    "plt.xlabel(\"Matrix Size\")\n",
    "plt.ylabel('Validation Score')"
   ]
  },
  {
   "cell_type": "code",
   "execution_count": null,
   "metadata": {},
   "outputs": [],
   "source": []
  }
 ],
 "metadata": {
  "kernelspec": {
   "display_name": "Python 3",
   "language": "python",
   "name": "python3"
  },
  "language_info": {
   "codemirror_mode": {
    "name": "ipython",
    "version": 3
   },
   "file_extension": ".py",
   "mimetype": "text/x-python",
   "name": "python",
   "nbconvert_exporter": "python",
   "pygments_lexer": "ipython3",
   "version": "3.8.5"
  }
 },
 "nbformat": 4,
 "nbformat_minor": 4
}
